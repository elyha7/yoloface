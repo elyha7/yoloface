{
 "cells": [
  {
   "cell_type": "code",
   "execution_count": 28,
   "metadata": {},
   "outputs": [],
   "source": [
    "import os\n",
    "import cv2\n",
    "import time\n",
    "import librosa\n",
    "import numpy as np\n",
    "import pandas as pd\n",
    "import matplotlib.pyplot as plt\n",
    "import tensorflow as tf\n",
    "from tensorflow import keras\n",
    "from tensorflow.keras import layers\n",
    "from tensorflow.keras.callbacks import EarlyStopping\n",
    "from sklearn.model_selection import train_test_split\n",
    "from sklearn.preprocessing import LabelEncoder\n",
    "\n",
    "import warnings\n",
    "warnings.filterwarnings('ignore')"
   ]
  },
  {
   "cell_type": "code",
   "execution_count": 29,
   "metadata": {},
   "outputs": [],
   "source": [
    "path = os.getcwd() + '/train'"
   ]
  },
  {
   "cell_type": "code",
   "execution_count": 30,
   "metadata": {},
   "outputs": [],
   "source": [
    "def image_loader(path):\n",
    "    images = []\n",
    "    labels = []\n",
    "    for label in os.listdir(path):\n",
    "        label_folder = os.path.join(path, label)\n",
    "        for file in os.listdir(label_folder):\n",
    "            image_path = os.path.join(label_folder, file)\n",
    "            image = cv2.imread(image_path)\n",
    "            image.resize(224,224,3)\n",
    "            if image is not None:\n",
    "                labels.append(label)\n",
    "                images.append(image)\n",
    "    return images, labels"
   ]
  },
  {
   "cell_type": "code",
   "execution_count": 31,
   "metadata": {},
   "outputs": [
    {
     "name": "stdout",
     "output_type": "stream",
     "text": [
      "X shape:  (118, 224, 224, 3)\n",
      "y shape:  (118,)\n"
     ]
    }
   ],
   "source": [
    "X, y = image_loader(path)\n",
    "\n",
    "print('X shape: ', np.array(X).shape)\n",
    "print('y shape: ', np.array(y).shape)"
   ]
  },
  {
   "cell_type": "code",
   "execution_count": 32,
   "metadata": {},
   "outputs": [],
   "source": [
    "X = np.array(X).reshape(-1, 224, 224, 3)\n",
    "y = np.array(y).reshape(-1, 1)"
   ]
  },
  {
   "cell_type": "code",
   "execution_count": 33,
   "metadata": {},
   "outputs": [],
   "source": [
    "encoder = LabelEncoder()\n",
    "y = encoder.fit_transform(y)"
   ]
  },
  {
   "cell_type": "code",
   "execution_count": 34,
   "metadata": {},
   "outputs": [
    {
     "name": "stdout",
     "output_type": "stream",
     "text": [
      "X_train shape:  (94, 224, 224, 3)\n",
      "X_val shape:  (24, 224, 224, 3)\n",
      "y_train shape:  (94,)\n",
      "y_val shape:  (24,)\n"
     ]
    }
   ],
   "source": [
    "X_train, X_val, y_train, y_val = train_test_split(X, y, test_size=0.2, random_state=42, stratify=y)\n",
    "\n",
    "print('X_train shape: ', np.array(X_train).shape)\n",
    "print('X_val shape: ', np.array(X_val).shape)\n",
    "print('y_train shape: ', np.array(y_train).shape)\n",
    "print('y_val shape: ', np.array(y_val).shape)"
   ]
  },
  {
   "cell_type": "code",
   "execution_count": 35,
   "metadata": {},
   "outputs": [
    {
     "data": {
      "text/plain": [
       "0    60\n",
       "1    58\n",
       "Name: label, dtype: int64"
      ]
     },
     "execution_count": 35,
     "metadata": {},
     "output_type": "execute_result"
    }
   ],
   "source": [
    "label = pd.DataFrame(y, columns=['label'])\n",
    "label['label'].value_counts()"
   ]
  },
  {
   "cell_type": "code",
   "execution_count": 36,
   "metadata": {},
   "outputs": [],
   "source": [
    "X_train = X_train.astype('float32') / 255.\n",
    "X_val = X_val.astype('float32') / 255."
   ]
  },
  {
   "cell_type": "code",
   "execution_count": 37,
   "metadata": {},
   "outputs": [],
   "source": [
    "input_shape = X[0].shape\n",
    "num_classes = len(label['label'].unique())"
   ]
  },
  {
   "cell_type": "code",
   "execution_count": 38,
   "metadata": {},
   "outputs": [],
   "source": [
    "model = keras.Sequential([\n",
    "    layers.Conv2D(16, (3,3), activation = \"relu\", input_shape=(224,224,3)),\n",
    "    layers.MaxPooling2D(2,2),\n",
    "    layers.Conv2D(32, (3,3), activation = \"relu\"),\n",
    "    layers.MaxPooling2D(2,2),\n",
    "    layers.Flatten(),\n",
    "    layers.Dense(32, activation = \"relu\"),\n",
    "    layers.Dropout(0.2),\n",
    "    layers.Dense(num_classes, activation = \"softmax\")               \n",
    "])"
   ]
  },
  {
   "cell_type": "code",
   "execution_count": 39,
   "metadata": {},
   "outputs": [
    {
     "name": "stdout",
     "output_type": "stream",
     "text": [
      "Model: \"sequential_2\"\n",
      "_________________________________________________________________\n",
      " Layer (type)                Output Shape              Param #   \n",
      "=================================================================\n",
      " conv2d_5 (Conv2D)           (None, 222, 222, 16)      448       \n",
      "                                                                 \n",
      " max_pooling2d_5 (MaxPooling  (None, 111, 111, 16)     0         \n",
      " 2D)                                                             \n",
      "                                                                 \n",
      " conv2d_6 (Conv2D)           (None, 109, 109, 32)      4640      \n",
      "                                                                 \n",
      " max_pooling2d_6 (MaxPooling  (None, 54, 54, 32)       0         \n",
      " 2D)                                                             \n",
      "                                                                 \n",
      " flatten_2 (Flatten)         (None, 93312)             0         \n",
      "                                                                 \n",
      " dense_4 (Dense)             (None, 32)                2986016   \n",
      "                                                                 \n",
      " dropout_2 (Dropout)         (None, 32)                0         \n",
      "                                                                 \n",
      " dense_5 (Dense)             (None, 2)                 66        \n",
      "                                                                 \n",
      "=================================================================\n",
      "Total params: 2,991,170\n",
      "Trainable params: 2,991,170\n",
      "Non-trainable params: 0\n",
      "_________________________________________________________________\n"
     ]
    }
   ],
   "source": [
    "model.compile(optimizer=tf.keras.optimizers.Adam(learning_rate=0.0001),\n",
    "                loss='sparse_categorical_crossentropy',\n",
    "              metrics=['accuracy'])\n",
    "model.summary()"
   ]
  },
  {
   "cell_type": "code",
   "execution_count": 40,
   "metadata": {},
   "outputs": [],
   "source": [
    "earlystopper = EarlyStopping(\n",
    "    monitor='val_loss',\n",
    "    patience=5,\n",
    "    restore_best_weights=True\n",
    ")"
   ]
  },
  {
   "cell_type": "code",
   "execution_count": 41,
   "metadata": {},
   "outputs": [
    {
     "data": {
      "text/plain": [
       "(94, 224, 224, 3)"
      ]
     },
     "execution_count": 41,
     "metadata": {},
     "output_type": "execute_result"
    }
   ],
   "source": [
    "X_train.shape"
   ]
  },
  {
   "cell_type": "code",
   "execution_count": 42,
   "metadata": {},
   "outputs": [
    {
     "data": {
      "text/plain": [
       "1"
      ]
     },
     "execution_count": 42,
     "metadata": {},
     "output_type": "execute_result"
    }
   ],
   "source": [
    "y_train[0]"
   ]
  },
  {
   "cell_type": "code",
   "execution_count": 43,
   "metadata": {},
   "outputs": [
    {
     "name": "stdout",
     "output_type": "stream",
     "text": [
      "Epoch 1/50\n",
      "3/3 [==============================] - 1s 199ms/step - loss: 0.6102 - accuracy: 0.5532 - val_loss: 0.5291 - val_accuracy: 0.7500\n",
      "Epoch 2/50\n",
      "3/3 [==============================] - 0s 78ms/step - loss: 0.4031 - accuracy: 0.8191 - val_loss: 0.5073 - val_accuracy: 0.7917\n",
      "Epoch 3/50\n",
      "3/3 [==============================] - 0s 64ms/step - loss: 0.3498 - accuracy: 0.8511 - val_loss: 0.4776 - val_accuracy: 0.7917\n",
      "Epoch 4/50\n",
      "3/3 [==============================] - 0s 63ms/step - loss: 0.3274 - accuracy: 0.8830 - val_loss: 0.4173 - val_accuracy: 0.7917\n",
      "Epoch 5/50\n",
      "3/3 [==============================] - 0s 66ms/step - loss: 0.2767 - accuracy: 0.8511 - val_loss: 0.4034 - val_accuracy: 0.7917\n",
      "Epoch 6/50\n",
      "3/3 [==============================] - 0s 64ms/step - loss: 0.2309 - accuracy: 0.9043 - val_loss: 0.4152 - val_accuracy: 0.7917\n",
      "Epoch 7/50\n",
      "3/3 [==============================] - 0s 68ms/step - loss: 0.2434 - accuracy: 0.8936 - val_loss: 0.3629 - val_accuracy: 0.7917\n",
      "Epoch 8/50\n",
      "3/3 [==============================] - 0s 65ms/step - loss: 0.1931 - accuracy: 0.9255 - val_loss: 0.3320 - val_accuracy: 0.8333\n",
      "Epoch 9/50\n",
      "3/3 [==============================] - 0s 63ms/step - loss: 0.1670 - accuracy: 0.9362 - val_loss: 0.3087 - val_accuracy: 0.8333\n",
      "Epoch 10/50\n",
      "3/3 [==============================] - 0s 69ms/step - loss: 0.1437 - accuracy: 0.9468 - val_loss: 0.2759 - val_accuracy: 0.7917\n",
      "Epoch 11/50\n",
      "3/3 [==============================] - 0s 64ms/step - loss: 0.1264 - accuracy: 0.9681 - val_loss: 0.2474 - val_accuracy: 0.8750\n",
      "Epoch 12/50\n",
      "3/3 [==============================] - 0s 71ms/step - loss: 0.1130 - accuracy: 0.9894 - val_loss: 0.2336 - val_accuracy: 0.8750\n",
      "Epoch 13/50\n",
      "3/3 [==============================] - 0s 68ms/step - loss: 0.0979 - accuracy: 1.0000 - val_loss: 0.2173 - val_accuracy: 0.8750\n",
      "Epoch 14/50\n",
      "3/3 [==============================] - 0s 68ms/step - loss: 0.0973 - accuracy: 0.9681 - val_loss: 0.2043 - val_accuracy: 0.8750\n",
      "Epoch 15/50\n",
      "3/3 [==============================] - 0s 64ms/step - loss: 0.0794 - accuracy: 0.9787 - val_loss: 0.1821 - val_accuracy: 0.9167\n",
      "Epoch 16/50\n",
      "3/3 [==============================] - 0s 64ms/step - loss: 0.0604 - accuracy: 1.0000 - val_loss: 0.1725 - val_accuracy: 0.9583\n",
      "Epoch 17/50\n",
      "3/3 [==============================] - 0s 64ms/step - loss: 0.0566 - accuracy: 1.0000 - val_loss: 0.1636 - val_accuracy: 0.9167\n",
      "Epoch 18/50\n",
      "3/3 [==============================] - 0s 68ms/step - loss: 0.0448 - accuracy: 1.0000 - val_loss: 0.1576 - val_accuracy: 0.8750\n",
      "Epoch 19/50\n",
      "3/3 [==============================] - 0s 64ms/step - loss: 0.0360 - accuracy: 1.0000 - val_loss: 0.1366 - val_accuracy: 0.9583\n",
      "Epoch 20/50\n",
      "3/3 [==============================] - 0s 70ms/step - loss: 0.0287 - accuracy: 1.0000 - val_loss: 0.1271 - val_accuracy: 0.9583\n",
      "Epoch 21/50\n",
      "3/3 [==============================] - 0s 67ms/step - loss: 0.0258 - accuracy: 1.0000 - val_loss: 0.1176 - val_accuracy: 0.9583\n",
      "Epoch 22/50\n",
      "3/3 [==============================] - 0s 64ms/step - loss: 0.0252 - accuracy: 1.0000 - val_loss: 0.1143 - val_accuracy: 0.9583\n",
      "Epoch 23/50\n",
      "3/3 [==============================] - 0s 65ms/step - loss: 0.0313 - accuracy: 1.0000 - val_loss: 0.1055 - val_accuracy: 0.9583\n",
      "Epoch 24/50\n",
      "3/3 [==============================] - 0s 65ms/step - loss: 0.0311 - accuracy: 1.0000 - val_loss: 0.1003 - val_accuracy: 0.9583\n",
      "Epoch 25/50\n",
      "3/3 [==============================] - 0s 65ms/step - loss: 0.0211 - accuracy: 1.0000 - val_loss: 0.0973 - val_accuracy: 0.9583\n",
      "Epoch 26/50\n",
      "3/3 [==============================] - 0s 60ms/step - loss: 0.0138 - accuracy: 1.0000 - val_loss: 0.1034 - val_accuracy: 0.9583\n",
      "Epoch 27/50\n",
      "3/3 [==============================] - 0s 66ms/step - loss: 0.0178 - accuracy: 1.0000 - val_loss: 0.0959 - val_accuracy: 0.9583\n",
      "Epoch 28/50\n",
      "3/3 [==============================] - 0s 63ms/step - loss: 0.0102 - accuracy: 1.0000 - val_loss: 0.0875 - val_accuracy: 0.9583\n",
      "Epoch 29/50\n",
      "3/3 [==============================] - 0s 64ms/step - loss: 0.0086 - accuracy: 1.0000 - val_loss: 0.0848 - val_accuracy: 0.9583\n",
      "Epoch 30/50\n",
      "3/3 [==============================] - 0s 64ms/step - loss: 0.0079 - accuracy: 1.0000 - val_loss: 0.0828 - val_accuracy: 0.9583\n",
      "Epoch 31/50\n",
      "3/3 [==============================] - 0s 68ms/step - loss: 0.0090 - accuracy: 1.0000 - val_loss: 0.0831 - val_accuracy: 0.9583\n",
      "Epoch 32/50\n",
      "3/3 [==============================] - 0s 62ms/step - loss: 0.0129 - accuracy: 1.0000 - val_loss: 0.0871 - val_accuracy: 0.9583\n",
      "Epoch 33/50\n",
      "3/3 [==============================] - 0s 80ms/step - loss: 0.0094 - accuracy: 1.0000 - val_loss: 0.0813 - val_accuracy: 0.9583\n",
      "Epoch 34/50\n",
      "3/3 [==============================] - 0s 73ms/step - loss: 0.0079 - accuracy: 1.0000 - val_loss: 0.0770 - val_accuracy: 0.9583\n",
      "Epoch 35/50\n",
      "3/3 [==============================] - 0s 68ms/step - loss: 0.0082 - accuracy: 1.0000 - val_loss: 0.0788 - val_accuracy: 0.9583\n",
      "Epoch 36/50\n",
      "3/3 [==============================] - 0s 66ms/step - loss: 0.0070 - accuracy: 1.0000 - val_loss: 0.0802 - val_accuracy: 0.9583\n",
      "Epoch 37/50\n",
      "3/3 [==============================] - 0s 66ms/step - loss: 0.0085 - accuracy: 1.0000 - val_loss: 0.0790 - val_accuracy: 0.9583\n",
      "Epoch 38/50\n",
      "3/3 [==============================] - 0s 79ms/step - loss: 0.0058 - accuracy: 1.0000 - val_loss: 0.0763 - val_accuracy: 0.9583\n",
      "Epoch 39/50\n",
      "3/3 [==============================] - 0s 68ms/step - loss: 0.0050 - accuracy: 1.0000 - val_loss: 0.0687 - val_accuracy: 0.9583\n",
      "Epoch 40/50\n",
      "3/3 [==============================] - 0s 64ms/step - loss: 0.0064 - accuracy: 1.0000 - val_loss: 0.0654 - val_accuracy: 0.9583\n",
      "Epoch 41/50\n",
      "3/3 [==============================] - 0s 58ms/step - loss: 0.0052 - accuracy: 1.0000 - val_loss: 0.0657 - val_accuracy: 0.9583\n",
      "Epoch 42/50\n",
      "3/3 [==============================] - 0s 56ms/step - loss: 0.0025 - accuracy: 1.0000 - val_loss: 0.0658 - val_accuracy: 0.9583\n",
      "Epoch 43/50\n",
      "3/3 [==============================] - 0s 57ms/step - loss: 0.0081 - accuracy: 1.0000 - val_loss: 0.0783 - val_accuracy: 0.9583\n",
      "Epoch 44/50\n",
      "3/3 [==============================] - 0s 56ms/step - loss: 0.0030 - accuracy: 1.0000 - val_loss: 0.0906 - val_accuracy: 0.9583\n",
      "Epoch 45/50\n",
      "3/3 [==============================] - 0s 59ms/step - loss: 0.0077 - accuracy: 1.0000 - val_loss: 0.0720 - val_accuracy: 0.9583\n",
      "Training completed in 9 seconds.\n",
      "Training Accuracy: 1.000\n"
     ]
    }
   ],
   "source": [
    "epochs = 50\n",
    "batch_size = 32\n",
    "current_time = int(time.time())\n",
    "stop_training_callback = earlystopper\n",
    "history = model.fit(X_train, y_train, \n",
    "                    epochs=epochs, \n",
    "                    batch_size=batch_size,\n",
    "                    validation_data=(X_val, y_val), \n",
    "                    callbacks=[stop_training_callback])\n",
    "print(\"Training completed in {} seconds.\".format(int(time.time()-current_time)))\n",
    "print(\"Training Accuracy: {:.3f}\".format(history.history['accuracy'][-1]))"
   ]
  },
  {
   "cell_type": "code",
   "execution_count": 44,
   "metadata": {},
   "outputs": [
    {
     "data": {
      "image/png": "[encoded data removed]",
      "text/plain": [
       "<Figure size 640x480 with 1 Axes>"
      ]
     },
     "metadata": {},
     "output_type": "display_data"
    },
    {
     "name": "stdout",
     "output_type": "stream",
     "text": [
      "\n"
     ]
    },
    {
     "data": {
      "image/png": "[encoded data removed]",
      "text/plain": [
       "<Figure size 640x480 with 1 Axes>"
      ]
     },
     "metadata": {},
     "output_type": "display_data"
    }
   ],
   "source": [
    "acc=history.history['accuracy']\n",
    "val_acc=history.history['val_accuracy']\n",
    "loss=history.history['loss']\n",
    "val_loss=history.history['val_loss']\n",
    "\n",
    "epochs=range(len(acc))\n",
    "\n",
    "plt.subplot(1,2,1)\n",
    "plt.plot(epochs, acc, 'r', \"Training Accuracy\")\n",
    "plt.plot(epochs, val_acc, 'b', \"Validation Accuracy\")\n",
    "plt.title('Training and validation accuracy')\n",
    "plt.show()\n",
    "print(\"\")\n",
    "\n",
    "plt.plot(epochs, loss, 'r', \"Training Loss\")\n",
    "plt.plot(epochs, val_loss, 'b', \"Validation Loss\")\n",
    "plt.show()"
   ]
  },
  {
   "cell_type": "code",
   "execution_count": 45,
   "metadata": {},
   "outputs": [],
   "source": [
    "model.save('model.h5')"
   ]
  },
  {
   "cell_type": "code",
   "execution_count": 48,
   "metadata": {},
   "outputs": [
    {
     "name": "stdout",
     "output_type": "stream",
     "text": [
      "D:\\Study\\FPTU\\Season5\\CPV301\\Code\\Assigment\\yoloface\\train\\Tienpm\\Tienpm_75.jpg\n",
      "1/1 [==============================] - 0s 65ms/step\n",
      "[[0.566757 0.433243]]\n",
      "0\n",
      "['Duongtq']\n"
     ]
    }
   ],
   "source": [
    "img_path = 'D:\\Study\\FPTU\\Season5\\CPV301\\Code\\Assigment\\yoloface\\\\train\\Tienpm\\Tienpm_75.jpg'\n",
    "print(img_path)\n",
    "img = cv2.imread(img_path)\n",
    "img = cv2.resize(img, (224, 224))\n",
    "img = cv2.cvtColor(img, cv2.COLOR_BGR2RGB)\n",
    "img = img / 255.0\n",
    "\n",
    "img = np.array(img).reshape(-1, 224, 224, 3)\n",
    "\n",
    "model = tf.keras.models.load_model('model.h5')\n",
    "prediction = model.predict(img)\n",
    "print(prediction)\n",
    "\n",
    "print(np.argmax(prediction))\n",
    "print(encoder.inverse_transform([np.argmax(prediction)]) )"
   ]
  },
  {
   "cell_type": "code",
   "execution_count": 49,
   "metadata": {},
   "outputs": [
    {
     "name": "stdout",
     "output_type": "stream",
     "text": [
      "1/1 [==============================] - 0s 322ms/step\n"
     ]
    }
   ],
   "source": [
    "# plot the confusion matrix\n",
    "from sklearn.metrics import confusion_matrix\n",
    "import seaborn as sns\n",
    "import matplotlib.pyplot as plt\n",
    "\n",
    "y_pred = model.predict(X_val)\n",
    "y_pred = np.argmax(y_pred, axis=1)\n",
    "y_true = y_val\n"
   ]
  },
  {
   "cell_type": "code",
   "execution_count": 52,
   "metadata": {},
   "outputs": [
    {
     "data": {
      "image/png": "[encoded data removed]",
      "text/plain": [
       "<Figure size 1000x1000 with 2 Axes>"
      ]
     },
     "metadata": {},
     "output_type": "display_data"
    }
   ],
   "source": [
    "cm = confusion_matrix(y_true, y_pred)\n",
    "cm = cm.astype('float') / cm.sum(axis=1)[:, np.newaxis]\n",
    "plt.figure(figsize=(10,10))\n",
    "sns.heatmap(cm, annot=True, square=True, cmap=plt.cm.Blues)\n",
    "plt.xlabel('Predicted label')\n",
    "plt.ylabel('True label')\n",
    "plt.show()"
   ]
  },
  {
   "cell_type": "code",
   "execution_count": 54,
   "metadata": {},
   "outputs": [
    {
     "name": "stdout",
     "output_type": "stream",
     "text": [
      "Accuracy:  0.96\n"
     ]
    }
   ],
   "source": [
    "accuracy = np.sum(y_pred == y_true) / np.size(y_pred)\n",
    "print(\"Accuracy: \", round(accuracy, 2))"
   ]
  },
  {
   "cell_type": "code",
   "execution_count": null,
   "metadata": {},
   "outputs": [],
   "source": []
  }
 ],
 "metadata": {
  "kernelspec": {
   "display_name": "gpu",
   "language": "python",
   "name": "python3"
  },
  "language_info": {
   "codemirror_mode": {
    "name": "ipython",
    "version": 3
   },
   "file_extension": ".py",
   "mimetype": "text/x-python",
   "name": "python",
   "nbconvert_exporter": "python",
   "pygments_lexer": "ipython3",
   "version": "3.9.16"
  },
  "orig_nbformat": 4
 },
 "nbformat": 4,
 "nbformat_minor": 2
}
